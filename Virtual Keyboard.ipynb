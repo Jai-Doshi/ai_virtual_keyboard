{
 "cells": [
  {
   "cell_type": "code",
   "execution_count": 1,
   "id": "be7932bd",
   "metadata": {},
   "outputs": [],
   "source": [
    "# Importing Libraries\n",
    "\n",
    "import cv2      # pip intsall opencv-python\n",
    "from cvzone.HandTrackingModule import HandDetector      # pip install mediapipe==0.8.7\n",
    "import numpy as np      # pip install numpy\n",
    "import cvzone       # pip install cvzone==1.4.1\n",
    "from pynput.keyboard import Controller      # pip install pynput\n",
    "from playsound import playsound     # pip install playsound\n",
    "from time import sleep"
   ]
  },
  {
   "cell_type": "code",
   "execution_count": 2,
   "id": "71e1dfa4",
   "metadata": {},
   "outputs": [
    {
     "data": {
      "text/plain": [
       "True"
      ]
     },
     "execution_count": 2,
     "metadata": {},
     "output_type": "execute_result"
    }
   ],
   "source": [
    "# for webcam (Live Video)\n",
    "cap = cv2.VideoCapture(0)\n",
    "\n",
    "# Screen Resolution\n",
    "cap.set(3, 1280)\n",
    "cap.set(4, 720)"
   ]
  },
  {
   "cell_type": "code",
   "execution_count": 3,
   "id": "ecf57563",
   "metadata": {},
   "outputs": [],
   "source": [
    "# Detecting the hands\n",
    "\n",
    "detector = HandDetector(detectionCon=0.8)"
   ]
  },
  {
   "cell_type": "code",
   "execution_count": 4,
   "id": "d5e385b3",
   "metadata": {},
   "outputs": [],
   "source": [
    "# List of Keys\n",
    "\n",
    "keys = [[\"Q\", \"W\", \"E\", \"R\", \"T\", \"Y\", \"U\", \"I\", \"O\", \"P\"],\n",
    "        [\"A\", \"S\", \"D\", \"F\", \"G\", \"H\", \"J\", \"K\", \"L\", \";\"],\n",
    "        [\"Z\", \"X\", \"C\", \"V\", \"B\", \"N\", \"M\", \",\", \".\", \"/\"]]"
   ]
  },
  {
   "cell_type": "code",
   "execution_count": 5,
   "id": "03114aae",
   "metadata": {},
   "outputs": [],
   "source": [
    "# Output Text\n",
    "\n",
    "finalText = \"\""
   ]
  },
  {
   "cell_type": "code",
   "execution_count": 6,
   "id": "6333c54f",
   "metadata": {},
   "outputs": [],
   "source": [
    "# Keyboard key pressed\n",
    "\n",
    "keyboard = Controller() "
   ]
  },
  {
   "cell_type": "code",
   "execution_count": 7,
   "id": "bfadf7ac",
   "metadata": {},
   "outputs": [],
   "source": [
    "# Drawing and styling the keyboard\n",
    "\n",
    "def drawAll(img, buttonList):\n",
    "    imgNew = np.zeros_like(img, np.uint8)\n",
    "    for button in buttonList:\n",
    "        x, y = button.pos\n",
    "        cvzone.cornerRect(imgNew, (button.pos[0], button.pos[1], button.size[0], button.size[1]),\n",
    "                          20, rt=0)\n",
    "        cv2.rectangle(imgNew, button.pos, (x + button.size[0], y + button.size[1]),\n",
    "                      (255, 0, 255), cv2.FILLED)\n",
    "        cv2.putText(imgNew, button.text, (x + 40, y + 60),\n",
    "                    cv2.FONT_HERSHEY_PLAIN, 2, (255, 255, 255), 3)\n",
    "\n",
    "    out = img.copy()\n",
    "    alpha = 0.5\n",
    "    mask = imgNew.astype(bool)\n",
    "    out[mask] = cv2.addWeighted(img, alpha, imgNew, 1 - alpha, 0)[mask]\n",
    "    return out"
   ]
  },
  {
   "cell_type": "code",
   "execution_count": 8,
   "id": "e0922c1b",
   "metadata": {},
   "outputs": [],
   "source": [
    "# Button class for the button size, postion and the text \n",
    "\n",
    "class Button():\n",
    "    def __init__(self, pos, text, size=[85, 85]):\n",
    "        self.pos = pos\n",
    "        self.size = size\n",
    "        self.text = text"
   ]
  },
  {
   "cell_type": "code",
   "execution_count": 9,
   "id": "e1e64aa4",
   "metadata": {},
   "outputs": [],
   "source": [
    "# Empty list to append size and position, key or text wise  \n",
    "\n",
    "buttonList = []\n",
    "for i in range(len(keys)):\n",
    "    for j, key in enumerate(keys[i]):\n",
    "        buttonList.append(Button([100 * j + 150, 100 * i + 150], key))"
   ]
  },
  {
   "cell_type": "code",
   "execution_count": 10,
   "id": "dc2b2319",
   "metadata": {},
   "outputs": [],
   "source": [
    "# Infinite loop \n",
    "while True:\n",
    "    success, img = cap.read()\n",
    "    img = detector.findHands(img)\n",
    "    lmList, bboxInfo = detector.findPosition(img)\n",
    "    img = drawAll(img, buttonList)\n",
    " \n",
    "    if lmList:\n",
    "        for button in buttonList:\n",
    "            x, y = button.pos\n",
    "            w, h = button.size\n",
    " \n",
    "            if x < lmList[8][0] < x + w and y < lmList[8][1] < y + h:\n",
    "                cv2.rectangle(img, (x - 5, y - 5), (x + w + 5, y + h + 5), (175, 0, 175), cv2.FILLED)\n",
    "                cv2.putText(img, button.text, (x + 20, y + 65),\n",
    "                            cv2.FONT_HERSHEY_PLAIN, 4, (255, 255, 255), 4)\n",
    "                l, _, _ = detector.findDistance(8, 12, img, draw=False)\n",
    " \n",
    "                # Double clicked\n",
    "                if l < 30:\n",
    "                    keyboard.press(button.text)\n",
    "                    cv2.rectangle(img, button.pos, (x + w, y + h), (0, 255, 0), cv2.FILLED)\n",
    "                    cv2.putText(img, button.text, (x + 20, y + 65),\n",
    "                                cv2.FONT_HERSHEY_PLAIN, 4, (255, 255, 255), 4)\n",
    "                    finalText += button.text\n",
    "                    playsound('click.wav')\n",
    "                    sleep(0.2)\n",
    " \n",
    "    cv2.rectangle(img, (300, 500), (1000, 600), (175, 0, 175), cv2.FILLED)\n",
    "    cv2.putText(img, finalText, (320, 580),\n",
    "                cv2.FONT_HERSHEY_PLAIN, 5, (255, 255, 255), 5)\n",
    " \n",
    "    cv2.imshow(\"Virtual Keyboard\", img)\n",
    "    if cv2.waitKey(1) == 27:\n",
    "        break\n",
    "\n",
    "# Exit\n",
    "cap.release()\n",
    "cv2.destroyAllWindows()"
   ]
  },
  {
   "cell_type": "code",
   "execution_count": null,
   "id": "9e63a806",
   "metadata": {},
   "outputs": [],
   "source": []
  }
 ],
 "metadata": {
  "kernelspec": {
   "display_name": "Python 3 (ipykernel)",
   "language": "python",
   "name": "python3"
  },
  "language_info": {
   "codemirror_mode": {
    "name": "ipython",
    "version": 3
   },
   "file_extension": ".py",
   "mimetype": "text/x-python",
   "name": "python",
   "nbconvert_exporter": "python",
   "pygments_lexer": "ipython3",
   "version": "3.9.11"
  }
 },
 "nbformat": 4,
 "nbformat_minor": 5
}
